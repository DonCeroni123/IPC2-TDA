{
  "nbformat": 4,
  "nbformat_minor": 0,
  "metadata": {
    "colab": {
      "name": "TDA.ipynb",
      "provenance": [],
      "collapsed_sections": [],
      "toc_visible": true
    },
    "kernelspec": {
      "display_name": "Python 3",
      "name": "python3"
    }
  },
  "cells": [
    {
      "cell_type": "code",
      "metadata": {
        "id": "XSms4pdHWCcN"
      },
      "source": [
        "class cliente:\r\n",
        "  def __init__(self, nombre, no_habitacion):\r\n",
        "    self.nombre = nombre\r\n",
        "    self.no_habitacion = no_habitacion"
      ],
      "execution_count": 3,
      "outputs": []
    },
    {
      "cell_type": "code",
      "metadata": {
        "id": "ABUNBq0pXhHy"
      },
      "source": [
        "class node:\r\n",
        "  def __init__(self, cliente=None, next=None):\r\n",
        "    self.cliente = cliente\r\n",
        "    self.next = next"
      ],
      "execution_count": 4,
      "outputs": []
    },
    {
      "cell_type": "code",
      "metadata": {
        "id": "S1ro2LeTYUdf"
      },
      "source": [
        "class linked_list:\r\n",
        "  def __init__(self):\r\n",
        "    self.head = None\r\n",
        "\r\n",
        "  def insertar(self, cliente):\r\n",
        "    if not self.head:\r\n",
        "      self.head = node(cliente=cliente)\r\n",
        "      return \r\n",
        "    current = self.head\r\n",
        "    while current.next:\r\n",
        "      current = current.next\r\n",
        "    current.next = node(cliente = cliente)\r\n",
        "  \r\n",
        "  def imprimir(self):\r\n",
        "    node = self.head\r\n",
        "    while node != None:\r\n",
        "      print(node.cliente.nombre, end=\"=>\")\r\n",
        "      node = node.next\r\n",
        "  \r\n",
        "  def eliminar(self, no_habitacion):\r\n",
        "    current = self.head\r\n",
        "    previous = None\r\n",
        "    while current and current.cliente.no_habitacion != no_habitacion:\r\n",
        "      previous = current\r\n",
        "      current = current.next\r\n",
        "\r\n",
        "    if previous is None:\r\n",
        "      self.head = current.next\r\n",
        "    elif current:\r\n",
        "      previous.next = current.next\r\n",
        "      current.next = None\r\n"
      ],
      "execution_count": null,
      "outputs": []
    },
    {
      "cell_type": "code",
      "metadata": {
        "id": "GZhszi3qcvhp"
      },
      "source": [
        "c1 = cliente(\"Estuardo Zapeta\",101)\r\n",
        "c2 = cliente(\"Marco Lopez\",103)\r\n",
        "c3 = cliente(\"Josue Armas\",204)\r\n",
        "c4 = cliente(\"Gladys Olmos\",302)"
      ],
      "execution_count": null,
      "outputs": []
    },
    {
      "cell_type": "code",
      "metadata": {
        "id": "J0kF3RFDdRDG"
      },
      "source": [
        "lista = linked_list()\r\n",
        "lista.insertar(c1)\r\n",
        "lista.insertar(c2)\r\n",
        "lista.insertar(c3)\r\n",
        "lista.insertar(c4)"
      ],
      "execution_count": null,
      "outputs": []
    },
    {
      "cell_type": "code",
      "metadata": {
        "colab": {
          "base_uri": "https://localhost:8080/"
        },
        "id": "RiH5Dw2WezJE",
        "outputId": "8c68e176-4e0d-47f2-a8f4-a7a8be34eb47"
      },
      "source": [
        "lista.imprimir()"
      ],
      "execution_count": null,
      "outputs": [
        {
          "output_type": "stream",
          "text": [
            "Estuardo Zapeta=>Marco Lopez=>Josue Armas=>Gladys Olmos=>"
          ],
          "name": "stdout"
        }
      ]
    },
    {
      "cell_type": "code",
      "metadata": {
        "id": "fPMed3u5klA4"
      },
      "source": [
        "lista.eliminar(101)"
      ],
      "execution_count": null,
      "outputs": []
    },
    {
      "cell_type": "markdown",
      "metadata": {
        "id": "0Nj0O8noomPo"
      },
      "source": [
        "**Ejercicios de listas circulares**"
      ]
    },
    {
      "cell_type": "code",
      "metadata": {
        "id": "JxBQx_2Io6Vd"
      },
      "source": [
        "class linked_list_circular:\r\n",
        "  def __init__(self, head=None):\r\n",
        "    self.head = head\r\n",
        "    self.size = 0\r\n",
        "\r\n",
        "  def insertar(self, cliente):\r\n",
        "    if self.size == 0:\r\n",
        "      self.head = node(cliente=cliente)\r\n",
        "      self.head.next = self.head\r\n",
        "    else:\r\n",
        "      new_node = node(cliente=cliente, next=self.head.next)\r\n",
        "      self.head.next = new_node\r\n",
        "    self.size += 1\r\n",
        "\r\n",
        "  def imprimir(self):\r\n",
        "    if self.head is None:\r\n",
        "      return\r\n",
        "    node = self.head \r\n",
        "    print(node.cliente.nombre, end = \"=>\")\r\n",
        "    while node.next != self.head:\r\n",
        "      node = node.next\r\n",
        "      print(node.cliente.nombre, end = \"=>\")\r\n",
        "\r\n",
        "  def eliminar(self, no_habitacion):\r\n",
        "    node = self.head\r\n",
        "    previous = None\r\n",
        "\r\n",
        "    while True:\r\n",
        "      if node.cliente.no_habitacion == no_habitacion:\r\n",
        "        if previous is not None:\r\n",
        "          previous.next = node.next\r\n",
        "        else:\r\n",
        "          while node.next != self.head:\r\n",
        "            node = node.next\r\n",
        "          node.next = self.head.next\r\n",
        "          self.head = self.head.next\r\n",
        "        self.size -= 1\r\n",
        "        return True\r\n",
        "      elif node.next == self.head:\r\n",
        "        return False\r\n",
        "\r\n",
        "\r\n",
        "\r\n",
        "      previous = node\r\n",
        "      node = node.next\r\n"
      ],
      "execution_count": null,
      "outputs": []
    },
    {
      "cell_type": "code",
      "metadata": {
        "id": "W5TvqotKRLgl"
      },
      "source": [
        "lista_c = linked_list_circular()\r\n",
        "lista_c.insertar(c1) \r\n",
        "lista_c.insertar(c2)\r\n",
        "lista_c.insertar(c3)\r\n",
        "lista_c.insertar(c4)"
      ],
      "execution_count": null,
      "outputs": []
    },
    {
      "cell_type": "code",
      "metadata": {
        "colab": {
          "base_uri": "https://localhost:8080/"
        },
        "id": "CsBWVbl2UkN1",
        "outputId": "6200f0ee-c41c-4f93-d74f-22e15c963444"
      },
      "source": [
        "lista_c.imprimir()"
      ],
      "execution_count": null,
      "outputs": [
        {
          "output_type": "stream",
          "text": [
            "Gladys Olmos=>Josue Armas=>Marco Lopez=>"
          ],
          "name": "stdout"
        }
      ]
    },
    {
      "cell_type": "code",
      "metadata": {
        "colab": {
          "base_uri": "https://localhost:8080/"
        },
        "id": "2sZqqYvlef4L",
        "outputId": "be74e6e8-fdff-48e5-b880-95ffff9c6285"
      },
      "source": [
        "lista_c.eliminar(101)"
      ],
      "execution_count": null,
      "outputs": [
        {
          "output_type": "execute_result",
          "data": {
            "text/plain": [
              "True"
            ]
          },
          "metadata": {
            "tags": []
          },
          "execution_count": 47
        }
      ]
    },
    {
      "cell_type": "markdown",
      "metadata": {
        "id": "8I-LI1UsisML"
      },
      "source": [
        "**Pilas**"
      ]
    },
    {
      "cell_type": "code",
      "metadata": {
        "id": "VApp3yxLi56g"
      },
      "source": [
        "class Pila:\r\n",
        "  def __init__(self):\r\n",
        "    self.pila = []\r\n",
        "\r\n",
        "  def apilar(self, cliente):\r\n",
        "    self.pila.append(cliente)\r\n",
        "  \r\n",
        "  def devolver_tamaño(self):\r\n",
        "    return len(self.pila)"
      ],
      "execution_count": null,
      "outputs": []
    },
    {
      "cell_type": "code",
      "metadata": {
        "id": "9sFa5rt2ebuT"
      },
      "source": [
        "c1 = cliente(\"Estuardo Zapeta\",101)\r\n",
        "c2 = cliente(\"Marco Lopez\",103)\r\n",
        "c3 = cliente(\"Josue Armas\",204)\r\n",
        "c4 = cliente(\"Gladys Olmos\",302)"
      ],
      "execution_count": null,
      "outputs": []
    },
    {
      "cell_type": "code",
      "metadata": {
        "id": "6ZYgJR7aelfa"
      },
      "source": [
        "p = Pila()\r\n",
        "p.apilar(c1)\r\n",
        "p.apilar(c2)\r\n",
        "p.apilar(c3)\r\n",
        "p.apilar(c4)\r\n"
      ],
      "execution_count": null,
      "outputs": []
    },
    {
      "cell_type": "markdown",
      "metadata": {
        "id": "bOFaO6sFjs8M"
      },
      "source": [
        "**Cola**"
      ]
    },
    {
      "cell_type": "code",
      "metadata": {
        "id": "FHN3WOkSjwGg"
      },
      "source": [
        "class Cola:\r\n",
        "  def __init__(self):\r\n",
        "    self.cola = []\r\n",
        "\r\n",
        "  def encolar(self,cliente):\r\n",
        "    self.cola.append(cliente)\r\n",
        "\r\n",
        "  def devolver_tamaño(self):\r\n",
        "    return len(self.cola)\r\n",
        "\r\n",
        "  def imprimir(self):\r\n",
        "    for elemento in self.cola:\r\n",
        "      print(elemento.nombre, end = \" <= \")"
      ],
      "execution_count": 1,
      "outputs": []
    },
    {
      "cell_type": "code",
      "metadata": {
        "id": "JzkNsHNMklzQ"
      },
      "source": [
        "c1 = cliente(\"Estuardo Zapeta\",101)\r\n",
        "c2 = cliente(\"Marco Lopez\",103)\r\n",
        "c3 = cliente(\"Josue Armas\",204)\r\n",
        "c4 = cliente(\"Gladys Olmos\",302)"
      ],
      "execution_count": 5,
      "outputs": []
    },
    {
      "cell_type": "code",
      "metadata": {
        "id": "AxVRii0lkode"
      },
      "source": [
        "c = Cola()\r\n",
        "c.encolar(c1)\r\n",
        "c.encolar(c2)\r\n",
        "c.encolar(c3)\r\n",
        "c.encolar(c4)"
      ],
      "execution_count": 6,
      "outputs": []
    },
    {
      "cell_type": "code",
      "metadata": {
        "colab": {
          "base_uri": "https://localhost:8080/"
        },
        "id": "mxmvNi-Skza2",
        "outputId": "f7f697dc-612c-4c0e-cccc-008e2aa30bcd"
      },
      "source": [
        "c.devolver_tamaño()"
      ],
      "execution_count": 10,
      "outputs": [
        {
          "output_type": "execute_result",
          "data": {
            "text/plain": [
              "4"
            ]
          },
          "metadata": {
            "tags": []
          },
          "execution_count": 10
        }
      ]
    },
    {
      "cell_type": "code",
      "metadata": {
        "colab": {
          "base_uri": "https://localhost:8080/"
        },
        "id": "VdA0sLWjk7Y9",
        "outputId": "f564af31-ef22-4651-ee59-d71bb3e91226"
      },
      "source": [
        "c.imprimir()"
      ],
      "execution_count": 9,
      "outputs": [
        {
          "output_type": "stream",
          "text": [
            "Estuardo Zapeta <= Marco Lopez <= Josue Armas <= Gladys Olmos <= "
          ],
          "name": "stdout"
        }
      ]
    }
  ]
}